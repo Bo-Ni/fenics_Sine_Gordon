{
 "cells": [
  {
   "cell_type": "code",
   "execution_count": 1,
   "metadata": {},
   "outputs": [
    {
     "data": {
      "text/plain": [
       "' \\n    equation\\n'"
      ]
     },
     "execution_count": 1,
     "metadata": {},
     "output_type": "execute_result"
    }
   ],
   "source": [
    "\"\"\" \n",
    "    equation\n",
    "\"\"\""
   ]
  },
  {
   "cell_type": "code",
   "execution_count": 2,
   "metadata": {},
   "outputs": [],
   "source": [
    "from dolfin import *\n",
    "from mshr import *\n",
    "import matplotlib.pyplot as plt\n",
    "import numpy as np\n",
    "import random"
   ]
  },
  {
   "cell_type": "code",
   "execution_count": 3,
   "metadata": {},
   "outputs": [],
   "source": [
    "# =========================================\n",
    "# function bank\n",
    "\n",
    "def strain(v):\n",
    "    return grad(v)[0]\n",
    "\n",
    "class LoadStepper:\n",
    "\n",
    "    \"\"\"\n",
    "    Time \"integrator\" for a problem with no time derivatives.  This \n",
    "    is basically just to keep track of a parameter, ``self.t``, that\n",
    "    can be used to parameterize external loading.\n",
    "    \"\"\"\n",
    "\n",
    "    def __init__(self,DELTA_T,t=0.0):\n",
    "        \"\"\"\n",
    "        Initializes the ``LoadStepper`` with a (pseudo)time step ``DELTA_T``\n",
    "        and initial time ``t``, which defaults to zero.\n",
    "        \"\"\"\n",
    "        self.DELTA_T = DELTA_T\n",
    "        self.tval = t\n",
    "        self.t = Expression(\"t\",t=self.tval,degree=0)\n",
    "        self.advance()\n",
    "\n",
    "    def advance(self):\n",
    "        \"\"\"\n",
    "        Increments the loading.\n",
    "        \"\"\"\n",
    "        self.tval += float(self.DELTA_T)\n",
    "        self.t.t = self.tval"
   ]
  },
  {
   "cell_type": "code",
   "execution_count": 4,
   "metadata": {},
   "outputs": [],
   "source": [
    "# ==========================================\n",
    "# parameters\n",
    "\n",
    "# ------------------------------------------\n",
    "# mesh\n",
    "xmin = 0.0\n",
    "xmax = 1.0\n",
    "nel = 10000\n",
    "p_order = 2\n",
    "\n",
    "# ------------------------------------------\n",
    "# material system (nondimensional)\n",
    "d_NonDim = 0.5 # d/H\n",
    "wl_NonDim = 0.1  # lambda/H\n",
    "fe_NonDim = 0.005  # lambda*tao/k\n",
    "\n",
    "d_NonDim = 0.15 # d/H\n",
    "wl_NonDim = 0.02  # lambda/H\n",
    "fe_NonDim = 0.001  # lambda*tao/k"
   ]
  },
  {
   "cell_type": "code",
   "execution_count": 5,
   "metadata": {},
   "outputs": [],
   "source": [
    "# ------------------------------------------\n",
    "# time stepping\n",
    "N_STEPS = 10\n",
    "DELTA_T = 1.0/float(N_STEPS)\n",
    "stepper = LoadStepper(DELTA_T)"
   ]
  },
  {
   "cell_type": "code",
   "execution_count": 6,
   "metadata": {},
   "outputs": [
    {
     "name": "stdout",
     "output_type": "stream",
     "text": [
      "f_0\n"
     ]
    }
   ],
   "source": [
    "# test\n",
    "print(stepper.t)"
   ]
  },
  {
   "cell_type": "code",
   "execution_count": 7,
   "metadata": {},
   "outputs": [
    {
     "data": {
      "image/png": "[encoded data removed]",
      "text/plain": [
       "<Figure size 432x288 with 1 Axes>"
      ]
     },
     "metadata": {
      "needs_background": "light"
     },
     "output_type": "display_data"
    }
   ],
   "source": [
    "# ==========================================\n",
    "# mesh\n",
    "mesh = IntervalMesh(nel, xmin, xmax)\n",
    "\n",
    "plot(mesh)\n",
    "\n",
    "# ------------------------------------------\n",
    "# define BCs\n",
    "class Left(SubDomain):\n",
    "    def inside(self, x, on_boundary):\n",
    "        return near(x[0], xmin, 1.e-14) and on_boundary\n",
    "class Right(SubDomain):\n",
    "    def inside(self, x, on_boundary):\n",
    "        return near(x[0], xmax, 1.e-14) and on_boundary\n",
    "\n",
    "# This imposes a Dirichlet condition at the point x=0\n",
    "def Dirichlet_x0_boundary(x,on_boundary):\n",
    "    tol = 1e-14\n",
    "    return abs(x[0]-xmin)<tol\n",
    "# This imposes a Dirichlet condition at the point x=1\n",
    "def Dirichlet_x1_boundary(x,on_boundary):\n",
    "    tol = 1e-14\n",
    "    return abs(x[0]-xmax)<tol"
   ]
  },
  {
   "cell_type": "code",
   "execution_count": 8,
   "metadata": {},
   "outputs": [],
   "source": [
    "# =========================================\n",
    "# function space\n",
    "\n",
    "V1D = FiniteElement('CG',mesh.ufl_cell(),p_order)\n",
    "# u1 and u2 for the bot and top layers\n",
    "V   = FunctionSpace(mesh,V1D)"
   ]
  },
  {
   "cell_type": "code",
   "execution_count": 9,
   "metadata": {},
   "outputs": [],
   "source": [
    "# =========================================\n",
    "# Disp. bc\n",
    "# Enforce u1=0,u2=0 at x=0\n",
    "#         u1=d      at x=1\n",
    "# ---------------------------------------\n",
    "u_A = Constant(d_NonDim/N_STEPS)\n",
    "bcs = [DirichletBC(V, Constant(0),        Dirichlet_x0_boundary),\n",
    "       DirichletBC(V, u_A,      Dirichlet_x1_boundary)]"
   ]
  },
  {
   "cell_type": "code",
   "execution_count": 10,
   "metadata": {},
   "outputs": [],
   "source": [
    "# weak form\n",
    "# ---------------------------------------\n",
    "u1_0 = Function(V)\n",
    "u1   = Function(V)\n",
    "# initialize u1_0\n",
    "# \n",
    "\n",
    "\n",
    "# Define variational problem\n",
    "ddu1 = TestFunction(V)\n",
    "du1 = Function(V)\n",
    "\n",
    "# current step\n",
    "# u1 = (u1_0+du1)\n",
    "\n",
    "# weak form\n",
    "F = inner(strain((u1_0+du1)),strain(ddu1))*dx + \\\n",
    "    1/d_NonDim*fe_NonDim/wl_NonDim*sin(2*pi/wl_NonDim*d_NonDim*(u1_0+du1))*ddu1*dx\n",
    "\n",
    "J = derivative(F, du1)\n",
    "problem = NonlinearVariationalProblem(F, du1, bcs, J)\n",
    "solver  = NonlinearVariationalSolver(problem)\n",
    "# solver = NewtonSolver()"
   ]
  },
  {
   "cell_type": "code",
   "execution_count": 11,
   "metadata": {},
   "outputs": [
    {
     "name": "stdout",
     "output_type": "stream",
     "text": [
      "------- Step: 0 , t = 0.1 -------\n",
      "------- Step: 1 , t = 0.2 -------\n",
      "------- Step: 2 , t = 0.30000000000000004 -------\n",
      "------- Step: 3 , t = 0.4 -------\n",
      "------- Step: 4 , t = 0.5 -------\n",
      "------- Step: 5 , t = 0.6 -------\n",
      "------- Step: 6 , t = 0.7 -------\n",
      "------- Step: 7 , t = 0.7999999999999999 -------\n",
      "------- Step: 8 , t = 0.8999999999999999 -------\n",
      "------- Step: 9 , t = 0.9999999999999999 -------\n"
     ]
    },
    {
     "data": {
      "image/png": "[encoded data removed]",
      "text/plain": [
       "<Figure size 432x288 with 1 Axes>"
      ]
     },
     "metadata": {
      "needs_background": "light"
     },
     "output_type": "display_data"
    }
   ],
   "source": [
    "# plt.figure()\n",
    "# plt.xlim(0.0-0.05, 1.0+0.05)\n",
    "# plt.ylim(0.0-0.05, d_NonDim+0.05)\n",
    "\n",
    "for i in range(N_STEPS):\n",
    "    print(\"------- Step: \"+str(i)+\" , t = \"+str(stepper.tval)+\" -------\")\n",
    "    solver.solve()\n",
    "    u1_0.vector()[:] = u1_0.vector()+du1.vector()\n",
    "    \n",
    "#     plt.figure()\n",
    "# #     plot(du1)\n",
    "#     plot(u1_0)\n",
    "#     plt.xlim(0.0-0.05, 1.0+0.05)\n",
    "#     plt.ylim(0.0-0.05, d_NonDim+0.05)\n",
    "    plot(strain(u1_0))\n",
    "    plt.xlim(0.0-0.05, 1.0+0.05)\n",
    "    plt.ylim(0.0-0.05,d_NonDim+0.10)\n",
    "    # advance to the next load step\n",
    "    stepper.advance()"
   ]
  },
  {
   "cell_type": "code",
   "execution_count": null,
   "metadata": {},
   "outputs": [],
   "source": []
  }
 ],
 "metadata": {
  "kernelspec": {
   "display_name": "Python 3",
   "language": "python",
   "name": "python3"
  },
  "language_info": {
   "codemirror_mode": {
    "name": "ipython",
    "version": 3
   },
   "file_extension": ".py",
   "mimetype": "text/x-python",
   "name": "python",
   "nbconvert_exporter": "python",
   "pygments_lexer": "ipython3",
   "version": "3.6.9"
  }
 },
 "nbformat": 4,
 "nbformat_minor": 2
}
