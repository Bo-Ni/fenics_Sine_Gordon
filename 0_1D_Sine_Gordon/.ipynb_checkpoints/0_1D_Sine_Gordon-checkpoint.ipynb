{
 "cells": [
  {
   "cell_type": "code",
   "execution_count": 2,
   "metadata": {},
   "outputs": [
    {
     "data": {
      "text/plain": [
       "\" \\n    bvp1.py solves the 1D Poisson equation using FEniCS \\n    Copyright (C) 2013  Greg von Winckel\\n    This program is free software: you can redistribute it and/or modify\\n    it under the terms of the GNU General Public License as published by\\n    the Free Software Foundation, either version 3 of the License, or\\n    (at your option) any later version.\\n    This program is distributed in the hope that it will be useful,\\n    but WITHOUT ANY WARRANTY; without even the implied warranty of\\n    MERCHANTABILITY or FITNESS FOR A PARTICULAR PURPOSE.  See the\\n    GNU General Public License for more details.\\n    You should have received a copy of the GNU General Public License\\n    along with this program.  If not, see <http://www.gnu.org/licenses/>.\\n   Solve the 1D Poisson equation -u''=-1 with u(0)=0, u'(1)=1\\n   The exact solution is x^2/2\\n\""
      ]
     },
     "execution_count": 2,
     "metadata": {},
     "output_type": "execute_result"
    }
   ],
   "source": [
    "\"\"\" \n",
    "    bvp1.py solves the 1D Poisson equation using FEniCS \n",
    "    Copyright (C) 2013  Greg von Winckel\n",
    "    This program is free software: you can redistribute it and/or modify\n",
    "    it under the terms of the GNU General Public License as published by\n",
    "    the Free Software Foundation, either version 3 of the License, or\n",
    "    (at your option) any later version.\n",
    "    This program is distributed in the hope that it will be useful,\n",
    "    but WITHOUT ANY WARRANTY; without even the implied warranty of\n",
    "    MERCHANTABILITY or FITNESS FOR A PARTICULAR PURPOSE.  See the\n",
    "    GNU General Public License for more details.\n",
    "    You should have received a copy of the GNU General Public License\n",
    "    along with this program.  If not, see <http://www.gnu.org/licenses/>.\n",
    "   Solve the 1D Poisson equation -u''=-1 with u(0)=0, u'(1)=1\n",
    "   The exact solution is x^2/2\n",
    "\"\"\""
   ]
  },
  {
   "cell_type": "code",
   "execution_count": 1,
   "metadata": {},
   "outputs": [],
   "source": [
    "from dolfin import *\n",
    "from mshr import *\n",
    "import matplotlib.pyplot as plt\n",
    "import numpy as np\n",
    "import random"
   ]
  },
  {
   "cell_type": "code",
   "execution_count": 29,
   "metadata": {},
   "outputs": [],
   "source": [
    "# ==========================================\n",
    "# parameters\n",
    "\n",
    "# ------------------------------------------\n",
    "# mesh\n",
    "xmin = 0.0\n",
    "xmax = 1.0\n",
    "nel = 1000\n",
    "p_order = 1\n",
    "\n",
    "# ------------------------------------------\n",
    "# material system (nondimensional)\n",
    "d_NonDim = 0.1   # d/H\n",
    "wl_NonDim = 0.02  # lambda/H\n",
    "fe_NonDim = 0.01  # lambda*tao/k"
   ]
  },
  {
   "cell_type": "code",
   "execution_count": 4,
   "metadata": {},
   "outputs": [
    {
     "data": {
      "text/plain": [
       "[<matplotlib.lines.Line2D at 0x7f4b66e13588>]"
      ]
     },
     "execution_count": 4,
     "metadata": {},
     "output_type": "execute_result"
    },
    {
     "data": {
      "image/png": "[encoded data removed]",
      "text/plain": [
       "<Figure size 432x288 with 1 Axes>"
      ]
     },
     "metadata": {
      "needs_background": "light"
     },
     "output_type": "display_data"
    }
   ],
   "source": [
    "# ==========================================\n",
    "# mesh\n",
    "mesh = IntervalMesh(nel, xmin, xmax)\n",
    "\n",
    "plot(mesh)\n",
    "\n",
    "class Left(SubDomain):\n",
    "    def inside(self, x, on_boundary):\n",
    "        return near(x[0], xmin, 1.e-14) and on_boundary\n",
    "class Right(SubDomain):\n",
    "    def inside(self, x, on_boundary):\n",
    "        return near(x[0], xmax, 1.e-14) and on_boundary\n",
    "\n",
    "    "
   ]
  },
  {
   "cell_type": "code",
   "execution_count": 6,
   "metadata": {},
   "outputs": [
    {
     "name": "stdout",
     "output_type": "stream",
     "text": [
      "Calling FFC just-in-time (JIT) compiler, this may take some time.\n",
      "Calling FFC just-in-time (JIT) compiler, this may take some time.\n"
     ]
    }
   ],
   "source": [
    "# =========================================\n",
    "# function space\n",
    "V1D = FiniteElement('CG',mesh.ufl_cell(),p_order)\n",
    "# u1 and u2 for the bot and top layers\n",
    "V   = FunctionSpace(mesh,MixedElement(V1D,V1D))"
   ]
  },
  {
   "cell_type": "code",
   "execution_count": 7,
   "metadata": {},
   "outputs": [],
   "source": [
    "# This imposes a Dirichlet condition at the point x=0\n",
    "def Dirichlet_x0_boundary(x,on_boundary):\n",
    "    tol = 1e-14\n",
    "    return abs(x[0]-xmin)<tol\n",
    "\n",
    "# This imposes a Dirichlet condition at the point x=1\n",
    "def Dirichlet_x1_boundary(x,on_boundary):\n",
    "    tol = 1e-14\n",
    "    return abs(x[0]-xmax)<tol"
   ]
  },
  {
   "cell_type": "code",
   "execution_count": 9,
   "metadata": {},
   "outputs": [],
   "source": [
    "# Enforce u1=0,u2=0 at x=0\n",
    "#         u1=d      at x=1\n",
    "# ---------------------------------------\n",
    "bcs = [DirichletBC(V.sub(0), Constant(0),        Dirichlet_x0_boundary),\n",
    "       DirichletBC(V.sub(1), Constant(0),        Dirichlet_x0_boundary),\n",
    "       DirichletBC(V.sub(0), Constant(d_NonDim), Dirichlet_x1_boundary)]"
   ]
  },
  {
   "cell_type": "code",
   "execution_count": 30,
   "metadata": {},
   "outputs": [
    {
     "name": "stdout",
     "output_type": "stream",
     "text": [
      "Calling FFC just-in-time (JIT) compiler, this may take some time.\n",
      "Calling FFC just-in-time (JIT) compiler, this may take some time.\n"
     ]
    }
   ],
   "source": [
    "# weak form\n",
    "# ---------------------------------------\n",
    "def strain(v):\n",
    "    return grad(v)[0]\n",
    "\n",
    "# Define variational problem\n",
    "du1, du2 = TestFunction(V)\n",
    "uvec = Function(V)\n",
    "u1, u2 = split(uvec)\n",
    "\n",
    "# weak form\n",
    "F = inner(strain(u1),strain(du1))*dx + \\\n",
    "    (1/d_NonDim)*(fe_NonDim)*(1/wl_NonDim)*sin(2*pi/wl_NonDim*d_NonDim*(u1-u2))*du1*dx + \\\n",
    "    inner(strain(u2),strain(du2))*dx - \\\n",
    "    (1/d_NonDim)*(fe_NonDim)*(1/wl_NonDim)*sin(2*pi/wl_NonDim*d_NonDim*(u1-u2))*du2*dx\n",
    "\n",
    "J = derivative(F, uvec)\n",
    "problem = NonlinearVariationalProblem(F, uvec, bcs, J)\n",
    "solver  = NonlinearVariationalSolver(problem)\n"
   ]
  },
  {
   "cell_type": "code",
   "execution_count": 35,
   "metadata": {},
   "outputs": [
    {
     "data": {
      "text/plain": [
       "(2, True)"
      ]
     },
     "execution_count": 35,
     "metadata": {},
     "output_type": "execute_result"
    }
   ],
   "source": [
    "solver.solve()"
   ]
  },
  {
   "cell_type": "code",
   "execution_count": 36,
   "metadata": {},
   "outputs": [
    {
     "data": {
      "text/plain": [
       "[<matplotlib.lines.Line2D at 0x7f4b294057b8>]"
      ]
     },
     "execution_count": 36,
     "metadata": {},
     "output_type": "execute_result"
    },
    {
     "data": {
      "image/png": "[encoded data removed]",
      "text/plain": [
       "<Figure size 432x288 with 1 Axes>"
      ]
     },
     "metadata": {
      "needs_background": "light"
     },
     "output_type": "display_data"
    }
   ],
   "source": [
    "# check\n",
    "# ------------------------------\n",
    "plt.figure()\n",
    "plot(u1)\n",
    "plot(u2)"
   ]
  },
  {
   "cell_type": "code",
   "execution_count": 37,
   "metadata": {},
   "outputs": [
    {
     "data": {
      "text/plain": [
       "[<matplotlib.lines.Line2D at 0x7f4b29828fd0>]"
      ]
     },
     "execution_count": 37,
     "metadata": {},
     "output_type": "execute_result"
    },
    {
     "data": {
      "image/png": "[encoded data removed]",
      "text/plain": [
       "<Figure size 432x288 with 1 Axes>"
      ]
     },
     "metadata": {
      "needs_background": "light"
     },
     "output_type": "display_data"
    }
   ],
   "source": [
    "# strain\n",
    "# ------------------------------\n",
    "plt.figure()\n",
    "plot(strain(u2))"
   ]
  },
  {
   "cell_type": "code",
   "execution_count": 38,
   "metadata": {},
   "outputs": [
    {
     "data": {
      "text/plain": [
       "[<matplotlib.lines.Line2D at 0x7f4b239c0da0>]"
      ]
     },
     "execution_count": 38,
     "metadata": {},
     "output_type": "execute_result"
    },
    {
     "data": {
      "image/png": "[encoded data removed]",
      "text/plain": [
       "<Figure size 432x288 with 1 Axes>"
      ]
     },
     "metadata": {
      "needs_background": "light"
     },
     "output_type": "display_data"
    }
   ],
   "source": [
    "# strain\n",
    "# ------------------------------\n",
    "plt.figure()\n",
    "plot(strain(u1))"
   ]
  },
  {
   "cell_type": "code",
   "execution_count": 39,
   "metadata": {},
   "outputs": [
    {
     "data": {
      "text/plain": [
       "[<matplotlib.lines.Line2D at 0x7f4b23992c88>]"
      ]
     },
     "execution_count": 39,
     "metadata": {},
     "output_type": "execute_result"
    },
    {
     "data": {
      "image/png": "[encoded data removed]",
      "text/plain": [
       "<Figure size 432x288 with 1 Axes>"
      ]
     },
     "metadata": {
      "needs_background": "light"
     },
     "output_type": "display_data"
    }
   ],
   "source": [
    "# check\n",
    "# ------------------------------\n",
    "plt.figure()\n",
    "plot(strain(u1-u2))"
   ]
  },
  {
   "cell_type": "code",
   "execution_count": null,
   "metadata": {},
   "outputs": [],
   "source": []
  }
 ],
 "metadata": {
  "kernelspec": {
   "display_name": "Python 3",
   "language": "python",
   "name": "python3"
  },
  "language_info": {
   "codemirror_mode": {
    "name": "ipython",
    "version": 3
   },
   "file_extension": ".py",
   "mimetype": "text/x-python",
   "name": "python",
   "nbconvert_exporter": "python",
   "pygments_lexer": "ipython3",
   "version": "3.6.9"
  }
 },
 "nbformat": 4,
 "nbformat_minor": 2
}
