{
 "cells": [
  {
   "cell_type": "code",
   "execution_count": 1,
   "metadata": {},
   "outputs": [
    {
     "data": {
      "text/plain": [
       "'\\n\\n'"
      ]
     },
     "execution_count": 1,
     "metadata": {},
     "output_type": "execute_result"
    }
   ],
   "source": [
    "\"\"\"\n",
    "\n",
    "\"\"\""
   ]
  },
  {
   "cell_type": "code",
   "execution_count": 2,
   "metadata": {},
   "outputs": [],
   "source": [
    "from dolfin import *\n",
    "from mshr import *\n",
    "import matplotlib.pyplot as plt\n",
    "import numpy as np\n",
    "import random"
   ]
  },
  {
   "cell_type": "code",
   "execution_count": 3,
   "metadata": {},
   "outputs": [],
   "source": [
    "# ==========================================\n",
    "# parameters\n",
    "\n",
    "# ------------------------------------------\n",
    "# mesh\n",
    "xmin = 0.0\n",
    "xmax = 1.0\n",
    "nel = 50000\n",
    "p_order = 2\n",
    "\n",
    "# ------------------------------------------\n",
    "# material system (nondimensional)\n",
    "d_NonDim = 1.20   # d/H\n",
    "wl_NonDim = 0.10  # lambda/H\n",
    "fe_NonDim = 1.0  # lambda*tao/k\n",
    "\n",
    "d_NonDim = 0.4   # d/H\n",
    "wl_NonDim = 0.10  # lambda/H\n",
    "fe_NonDim = 1.0  # lambda*tao/k\n",
    "\n",
    "# d_NonDim = 0.3   # d/H\n",
    "# wl_NonDim = 0.10  # lambda/H\n",
    "# fe_NonDim = 0.001  # lambda*tao/k"
   ]
  },
  {
   "cell_type": "code",
   "execution_count": 4,
   "metadata": {},
   "outputs": [],
   "source": [
    "class LoadStepper:\n",
    "\n",
    "    \"\"\"\n",
    "    Time \"integrator\" for a problem with no time derivatives.  This \n",
    "    is basically just to keep track of a parameter, ``self.t``, that\n",
    "    can be used to parameterize external loading.\n",
    "    \"\"\"\n",
    "\n",
    "    def __init__(self,DELTA_T,t=0.0):\n",
    "        \"\"\"\n",
    "        Initializes the ``LoadStepper`` with a (pseudo)time step ``DELTA_T``\n",
    "        and initial time ``t``, which defaults to zero.\n",
    "        \"\"\"\n",
    "        self.DELTA_T = DELTA_T\n",
    "        self.tval = t\n",
    "        self.t = Expression(\"t\",t=self.tval,degree=0)\n",
    "        self.advance()\n",
    "\n",
    "    def advance(self):\n",
    "        \"\"\"\n",
    "        Increments the loading.\n",
    "        \"\"\"\n",
    "        self.tval += float(self.DELTA_T)\n",
    "        self.t.t = self.tval"
   ]
  },
  {
   "cell_type": "code",
   "execution_count": 5,
   "metadata": {},
   "outputs": [],
   "source": [
    "# ------------------------------------------\n",
    "# time stepping\n",
    "N_STEPS = 10\n",
    "# N_STEPS = 1\n",
    "DELTA_T = 1.0/float(N_STEPS)\n",
    "stepper = LoadStepper(DELTA_T)"
   ]
  },
  {
   "cell_type": "code",
   "execution_count": 6,
   "metadata": {},
   "outputs": [],
   "source": [
    "# ==========================================\n",
    "# function bank\n",
    "def strain(v):\n",
    "    return grad(v)[0]"
   ]
  },
  {
   "cell_type": "code",
   "execution_count": 7,
   "metadata": {},
   "outputs": [
    {
     "data": {
      "image/png": "[encoded data removed]",
      "text/plain": [
       "<Figure size 432x288 with 1 Axes>"
      ]
     },
     "metadata": {
      "needs_background": "light"
     },
     "output_type": "display_data"
    }
   ],
   "source": [
    "# ==========================================\n",
    "# mesh\n",
    "mesh = IntervalMesh(nel, xmin, xmax)\n",
    "\n",
    "plot(mesh)\n",
    "\n",
    "class Left(SubDomain):\n",
    "    def inside(self, x, on_boundary):\n",
    "        return near(x[0], xmin, 1.e-14) and on_boundary\n",
    "class Right(SubDomain):\n",
    "    def inside(self, x, on_boundary):\n",
    "        return near(x[0], xmax, 1.e-14) and on_boundary"
   ]
  },
  {
   "cell_type": "code",
   "execution_count": 8,
   "metadata": {},
   "outputs": [],
   "source": [
    "# This imposes a Dirichlet condition at the point x=0\n",
    "def Dirichlet_x0_boundary(x,on_boundary):\n",
    "    tol = 1e-14\n",
    "    return abs(x[0]-xmin)<tol\n",
    "\n",
    "# This imposes a Dirichlet condition at the point x=1\n",
    "def Dirichlet_x1_boundary(x,on_boundary):\n",
    "    tol = 1e-14\n",
    "    return abs(x[0]-xmax)<tol"
   ]
  },
  {
   "cell_type": "code",
   "execution_count": 9,
   "metadata": {},
   "outputs": [],
   "source": [
    "# =========================================\n",
    "# function space\n",
    "V1D = FiniteElement('CG',mesh.ufl_cell(),p_order)\n",
    "# u1 and u2 for the bot and top layers\n",
    "V   = FunctionSpace(mesh,MixedElement(V1D,V1D))"
   ]
  },
  {
   "cell_type": "code",
   "execution_count": 10,
   "metadata": {},
   "outputs": [],
   "source": [
    "# =========================================\n",
    "# BCs for the u1-u10 for each step\n",
    "# --------------------------------------\n",
    "# Enforce u1=0,u2=0 at x=0\n",
    "#         u1=d/nstep      at x=1\n",
    "# ---------------------------------------\n",
    "bcs = [DirichletBC(V.sub(0), Constant(0),        Dirichlet_x0_boundary),\n",
    "       DirichletBC(V.sub(1), Constant(0),        Dirichlet_x0_boundary),\n",
    "       DirichletBC(V.sub(0), Constant(0),        Dirichlet_x1_boundary),\n",
    "       DirichletBC(V.sub(1), Constant(-d_NonDim/N_STEPS),        Dirichlet_x1_boundary)]"
   ]
  },
  {
   "cell_type": "code",
   "execution_count": 11,
   "metadata": {},
   "outputs": [],
   "source": [
    "# ---------------------------------------\n",
    "bcs0= [DirichletBC(V.sub(0), Constant(0),        Dirichlet_x0_boundary),\n",
    "       DirichletBC(V.sub(1), Constant(0),        Dirichlet_x0_boundary),\n",
    "       DirichletBC(V.sub(0), Constant(d_NonDim), Dirichlet_x1_boundary),\n",
    "       DirichletBC(V.sub(1), Constant(d_NonDim), Dirichlet_x1_boundary)]"
   ]
  },
  {
   "cell_type": "code",
   "execution_count": 21,
   "metadata": {},
   "outputs": [],
   "source": [
    "# record the results\n",
    "file = File(\"result/output.pvd\",\"compressed\")"
   ]
  },
  {
   "cell_type": "code",
   "execution_count": 12,
   "metadata": {},
   "outputs": [
    {
     "name": "stdout",
     "output_type": "stream",
     "text": [
      "Calling FFC just-in-time (JIT) compiler, this may take some time.\n",
      "Calling FFC just-in-time (JIT) compiler, this may take some time.\n"
     ]
    },
    {
     "data": {
      "text/plain": [
       "(1, True)"
      ]
     },
     "execution_count": 12,
     "metadata": {},
     "output_type": "execute_result"
    }
   ],
   "source": [
    "# =========================================\n",
    "# define initial functions\n",
    "# and solve the initial problem\n",
    "uvec_0 = Function(V)\n",
    "\n",
    "u1_0, u2_0 = split(uvec_0)\n",
    "\n",
    "# initialize uvec_0\n",
    "# ------------------------------------------\n",
    "# Define variational problem\n",
    "v1_0, v2_0 = TestFunction(V)\n",
    "\n",
    "# weak form\n",
    "F0 = inner(strain(u1_0),strain(v1_0))*dx + \\\n",
    "     (1/d_NonDim)*(fe_NonDim)*(1/wl_NonDim)*sin(2*pi/wl_NonDim*d_NonDim*(u1_0-u2_0))*v1_0*dx + \\\n",
    "     inner(strain(u2_0),strain(v2_0))*dx - \\\n",
    "     (1/d_NonDim)*(fe_NonDim)*(1/wl_NonDim)*sin(2*pi/wl_NonDim*d_NonDim*(u1_0-u2_0))*v2_0*dx\n",
    "\n",
    "J0 = derivative(F0, uvec_0)\n",
    "problem0 = NonlinearVariationalProblem(F0, uvec_0, bcs0, J0)\n",
    "solver0  = NonlinearVariationalSolver(problem0)\n",
    "\n",
    "solver0.solve()"
   ]
  },
  {
   "cell_type": "code",
   "execution_count": 22,
   "metadata": {},
   "outputs": [],
   "source": [
    "file << (uvec_0, stepper.tval)"
   ]
  },
  {
   "cell_type": "code",
   "execution_count": 13,
   "metadata": {},
   "outputs": [
    {
     "data": {
      "text/plain": [
       "[<matplotlib.lines.Line2D at 0x7f67ecfe3748>]"
      ]
     },
     "execution_count": 13,
     "metadata": {},
     "output_type": "execute_result"
    },
    {
     "data": {
      "image/png": "[encoded data removed]",
      "text/plain": [
       "<Figure size 432x288 with 1 Axes>"
      ]
     },
     "metadata": {
      "needs_background": "light"
     },
     "output_type": "display_data"
    }
   ],
   "source": [
    "# check the inital\n",
    "plt.figure()\n",
    "plot(u1_0)\n",
    "plot(u2_0)"
   ]
  },
  {
   "cell_type": "code",
   "execution_count": 14,
   "metadata": {},
   "outputs": [],
   "source": [
    "# =========================================\n",
    "# define functions\n",
    "\n",
    "# Define variational problem\n",
    "ddu1, ddu2 = TestFunction(V)\n",
    "\n",
    "duvec = Function(V)\n",
    "du1, du2 = split(duvec)\n",
    "\n",
    "u1 = u1_0 + du1\n",
    "u2 = u2_0 + du2\n",
    "# weak form\n",
    "F = inner(strain(u1),strain(ddu1))*dx + \\\n",
    "    (1/d_NonDim)*(fe_NonDim)*(1/wl_NonDim)*sin(2*pi/wl_NonDim*d_NonDim*(u1-u2))*ddu1*dx + \\\n",
    "    inner(strain(u2),strain(ddu2))*dx - \\\n",
    "    (1/d_NonDim)*(fe_NonDim)*(1/wl_NonDim)*sin(2*pi/wl_NonDim*d_NonDim*(u1-u2))*ddu2*dx\n",
    "\n",
    "J = derivative(F, duvec)\n",
    "problem = NonlinearVariationalProblem(F, duvec, bcs, J)\n",
    "solver  = NonlinearVariationalSolver(problem)"
   ]
  },
  {
   "cell_type": "code",
   "execution_count": 15,
   "metadata": {},
   "outputs": [],
   "source": [
    "prm = solver.parameters\n",
    "prm['newton_solver']['absolute_tolerance'] = 1E-9\n",
    "# prm['newton_solver']['relative_tolerance'] = 4E-8\n",
    "# prm['newton_solver']['relative_tolerance'] = 1E-6\n",
    "prm['newton_solver']['maximum_iterations'] = 100\n",
    "prm['newton_solver']['relaxation_parameter'] = 0.5"
   ]
  },
  {
   "cell_type": "code",
   "execution_count": 16,
   "metadata": {},
   "outputs": [
    {
     "name": "stdout",
     "output_type": "stream",
     "text": [
      "------- Step: 0 , t = 0.1 -------\n",
      "------- Step: 1 , t = 0.2 -------\n",
      "------- Step: 2 , t = 0.30000000000000004 -------\n",
      "------- Step: 3 , t = 0.4 -------\n",
      "------- Step: 4 , t = 0.5 -------\n",
      "------- Step: 5 , t = 0.6 -------\n",
      "------- Step: 6 , t = 0.7 -------\n"
     ]
    },
    {
     "ename": "RuntimeError",
     "evalue": "\n\n*** -------------------------------------------------------------------------\n*** DOLFIN encountered an error. If you are not able to resolve this issue\n*** using the information listed below, you can ask for help at\n***\n***     fenics-support@googlegroups.com\n***\n*** Remember to include the error message listed below and, if possible,\n*** include a *minimal* running example to reproduce the error.\n***\n*** -------------------------------------------------------------------------\n*** Error:   Unable to solve nonlinear system with NewtonSolver.\n*** Reason:  Newton solver did not converge because maximum number of iterations reached.\n*** Where:   This error was encountered inside NewtonSolver.cpp.\n*** Process: 0\n*** \n*** DOLFIN version: 2019.1.0\n*** Git changeset:  74d7efe1e84d65e9433fd96c50f1d278fa3e3f3f\n*** -------------------------------------------------------------------------\n",
     "output_type": "error",
     "traceback": [
      "\u001b[0;31m---------------------------------------------------------------------------\u001b[0m",
      "\u001b[0;31mRuntimeError\u001b[0m                              Traceback (most recent call last)",
      "\u001b[0;32m<ipython-input-16-a429e9d25ce3>\u001b[0m in \u001b[0;36m<module>\u001b[0;34m\u001b[0m\n\u001b[1;32m      1\u001b[0m \u001b[0;32mfor\u001b[0m \u001b[0mi\u001b[0m \u001b[0;32min\u001b[0m \u001b[0mrange\u001b[0m\u001b[0;34m(\u001b[0m\u001b[0mN_STEPS\u001b[0m\u001b[0;34m)\u001b[0m\u001b[0;34m:\u001b[0m\u001b[0;34m\u001b[0m\u001b[0;34m\u001b[0m\u001b[0m\n\u001b[1;32m      2\u001b[0m     \u001b[0mprint\u001b[0m\u001b[0;34m(\u001b[0m\u001b[0;34m\"------- Step: \"\u001b[0m\u001b[0;34m+\u001b[0m\u001b[0mstr\u001b[0m\u001b[0;34m(\u001b[0m\u001b[0mi\u001b[0m\u001b[0;34m)\u001b[0m\u001b[0;34m+\u001b[0m\u001b[0;34m\" , t = \"\u001b[0m\u001b[0;34m+\u001b[0m\u001b[0mstr\u001b[0m\u001b[0;34m(\u001b[0m\u001b[0mstepper\u001b[0m\u001b[0;34m.\u001b[0m\u001b[0mtval\u001b[0m\u001b[0;34m)\u001b[0m\u001b[0;34m+\u001b[0m\u001b[0;34m\" -------\"\u001b[0m\u001b[0;34m)\u001b[0m\u001b[0;34m\u001b[0m\u001b[0;34m\u001b[0m\u001b[0m\n\u001b[0;32m----> 3\u001b[0;31m     \u001b[0msolver\u001b[0m\u001b[0;34m.\u001b[0m\u001b[0msolve\u001b[0m\u001b[0;34m(\u001b[0m\u001b[0;34m)\u001b[0m\u001b[0;34m\u001b[0m\u001b[0;34m\u001b[0m\u001b[0m\n\u001b[0m\u001b[1;32m      4\u001b[0m     \u001b[0muvec_0\u001b[0m\u001b[0;34m.\u001b[0m\u001b[0mvector\u001b[0m\u001b[0;34m(\u001b[0m\u001b[0;34m)\u001b[0m\u001b[0;34m[\u001b[0m\u001b[0;34m:\u001b[0m\u001b[0;34m]\u001b[0m \u001b[0;34m=\u001b[0m \u001b[0muvec_0\u001b[0m\u001b[0;34m.\u001b[0m\u001b[0mvector\u001b[0m\u001b[0;34m(\u001b[0m\u001b[0;34m)\u001b[0m\u001b[0;34m+\u001b[0m\u001b[0mduvec\u001b[0m\u001b[0;34m.\u001b[0m\u001b[0mvector\u001b[0m\u001b[0;34m(\u001b[0m\u001b[0;34m)\u001b[0m\u001b[0;34m\u001b[0m\u001b[0;34m\u001b[0m\u001b[0m\n\u001b[1;32m      5\u001b[0m     \u001b[0;31m# ---------------------------\u001b[0m\u001b[0;34m\u001b[0m\u001b[0;34m\u001b[0m\u001b[0;34m\u001b[0m\u001b[0m\n",
      "\u001b[0;31mRuntimeError\u001b[0m: \n\n*** -------------------------------------------------------------------------\n*** DOLFIN encountered an error. If you are not able to resolve this issue\n*** using the information listed below, you can ask for help at\n***\n***     fenics-support@googlegroups.com\n***\n*** Remember to include the error message listed below and, if possible,\n*** include a *minimal* running example to reproduce the error.\n***\n*** -------------------------------------------------------------------------\n*** Error:   Unable to solve nonlinear system with NewtonSolver.\n*** Reason:  Newton solver did not converge because maximum number of iterations reached.\n*** Where:   This error was encountered inside NewtonSolver.cpp.\n*** Process: 0\n*** \n*** DOLFIN version: 2019.1.0\n*** Git changeset:  74d7efe1e84d65e9433fd96c50f1d278fa3e3f3f\n*** -------------------------------------------------------------------------\n"
     ]
    },
    {
     "data": {
      "image/png": "[encoded data removed]",
      "text/plain": [
       "<Figure size 432x288 with 1 Axes>"
      ]
     },
     "metadata": {
      "needs_background": "light"
     },
     "output_type": "display_data"
    }
   ],
   "source": [
    "for i in range(N_STEPS):\n",
    "    print(\"------- Step: \"+str(i)+\" , t = \"+str(stepper.tval)+\" -------\")\n",
    "    solver.solve()\n",
    "    uvec_0.vector()[:] = uvec_0.vector()+duvec.vector()\n",
    "    \n",
    "    file << (uvec_0, stepper.tval)\n",
    "    # ---------------------------\n",
    "    # for plot\n",
    "    plot(strain(u1_0))\n",
    "    plt.xlim(0.0-0.05,1.0+0.05)\n",
    "    plt.ylim(0.0,d_NonDim+0.05)\n",
    "    # ---------------------------\n",
    "    stepper.advance()"
   ]
  },
  {
   "cell_type": "code",
   "execution_count": 17,
   "metadata": {},
   "outputs": [
    {
     "data": {
      "text/plain": [
       "[<matplotlib.lines.Line2D at 0x7f67e6f5ada0>]"
      ]
     },
     "execution_count": 17,
     "metadata": {},
     "output_type": "execute_result"
    },
    {
     "data": {
      "image/png": "[encoded data removed]",
      "text/plain": [
       "<Figure size 432x288 with 1 Axes>"
      ]
     },
     "metadata": {
      "needs_background": "light"
     },
     "output_type": "display_data"
    }
   ],
   "source": [
    "# final\n",
    "# ------------------------------\n",
    "plt.figure()\n",
    "plot(u1_0)\n",
    "plot(u2_0)"
   ]
  },
  {
   "cell_type": "code",
   "execution_count": 19,
   "metadata": {},
   "outputs": [
    {
     "data": {
      "text/plain": [
       "[<matplotlib.lines.Line2D at 0x7f67e6cbada0>]"
      ]
     },
     "execution_count": 19,
     "metadata": {},
     "output_type": "execute_result"
    },
    {
     "data": {
      "image/png": "[encoded data removed]",
      "text/plain": [
       "<Figure size 432x288 with 1 Axes>"
      ]
     },
     "metadata": {
      "needs_background": "light"
     },
     "output_type": "display_data"
    }
   ],
   "source": [
    "# final\n",
    "# ------------------------------\n",
    "plt.figure()\n",
    "plot(strain(u1_0))\n",
    "plot(strain(u2_0))\n",
    "# plt.xlim(0.0-0.05, 1.0+0.05)\n",
    "# plt.ylim(0.0-0.05, d_NonDim+0.05)"
   ]
  },
  {
   "cell_type": "code",
   "execution_count": null,
   "metadata": {},
   "outputs": [],
   "source": [
    "plt.figure()\n",
    "\n",
    "plot(strain(u2_0))"
   ]
  },
  {
   "cell_type": "code",
   "execution_count": null,
   "metadata": {},
   "outputs": [],
   "source": []
  }
 ],
 "metadata": {
  "kernelspec": {
   "display_name": "Python 3",
   "language": "python",
   "name": "python3"
  },
  "language_info": {
   "codemirror_mode": {
    "name": "ipython",
    "version": 3
   },
   "file_extension": ".py",
   "mimetype": "text/x-python",
   "name": "python",
   "nbconvert_exporter": "python",
   "pygments_lexer": "ipython3",
   "version": "3.6.9"
  }
 },
 "nbformat": 4,
 "nbformat_minor": 2
}
