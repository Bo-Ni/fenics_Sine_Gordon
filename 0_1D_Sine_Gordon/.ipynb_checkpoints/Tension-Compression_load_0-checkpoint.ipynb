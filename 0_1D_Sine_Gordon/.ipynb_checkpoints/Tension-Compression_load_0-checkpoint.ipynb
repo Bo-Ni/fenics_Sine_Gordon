{
 "cells": [
  {
   "cell_type": "code",
   "execution_count": 1,
   "metadata": {},
   "outputs": [
    {
     "data": {
      "text/plain": [
       "'\\nCalculate stationary Sine-Gordon equation \\nto compare with linear system with discrete dislocation solutions\\n\\nM*ddu1/dxdx - tm*sin(2pi/b*(u1-u2)) = 0\\nM*ddu2/dxdx + tm*sin(2pi/b*(u1-u2)) = 0\\n\\n'"
      ]
     },
     "execution_count": 1,
     "metadata": {},
     "output_type": "execute_result"
    }
   ],
   "source": [
    "\"\"\"\n",
    "Calculate stationary Sine-Gordon equation \n",
    "to compare with linear system with discrete dislocation solutions\n",
    "\n",
    "M*ddu1/dxdx - tm*sin(2pi/b*(u1-u2)) = 0\n",
    "M*ddu2/dxdx + tm*sin(2pi/b*(u1-u2)) = 0\n",
    "\n",
    "\"\"\""
   ]
  },
  {
   "cell_type": "code",
   "execution_count": 2,
   "metadata": {},
   "outputs": [],
   "source": [
    "from dolfin import *\n",
    "from mshr import *\n",
    "import matplotlib.pyplot as plt\n",
    "import numpy as np\n",
    "import random\n",
    "import os"
   ]
  },
  {
   "cell_type": "code",
   "execution_count": 3,
   "metadata": {},
   "outputs": [],
   "source": [
    "class LoadStepper:\n",
    "\n",
    "    \"\"\"\n",
    "    Time \"integrator\" for a problem with no time derivatives.  This \n",
    "    is basically just to keep track of a parameter, ``self.t``, that\n",
    "    can be used to parameterize external loading.\n",
    "    \"\"\"\n",
    "\n",
    "    def __init__(self,DELTA_T,t=0.0):\n",
    "        \"\"\"\n",
    "        Initializes the ``LoadStepper`` with a (pseudo)time step ``DELTA_T``\n",
    "        and initial time ``t``, which defaults to zero.\n",
    "        \"\"\"\n",
    "        self.DELTA_T = DELTA_T\n",
    "        self.tval = t\n",
    "        self.t = Expression(\"t\",t=self.tval,degree=0)\n",
    "        self.advance()\n",
    "\n",
    "    def advance(self):\n",
    "        \"\"\"\n",
    "        Increments the loading.\n",
    "        \"\"\"\n",
    "        self.tval += float(self.DELTA_T)\n",
    "        self.t.t = self.tval"
   ]
  },
  {
   "cell_type": "code",
   "execution_count": 26,
   "metadata": {},
   "outputs": [
    {
     "name": "stdout",
     "output_type": "stream",
     "text": [
      "4.9413886404872995\n"
     ]
    }
   ],
   "source": [
    "# ==========================================\n",
    "# parameters\n",
    "L = 100.0            # nm\n",
    "M = 335.           # Graphene: Et= 335 nN/nm\n",
    "# tm = 1.0           # Graphene paper: tm = 40kPa = 4.E-5 nN/nm/nm\n",
    "tm = 0.38           # Graphene potential: tm = 0.38GPa = 0.38 nN/nm/nm\n",
    "b = 0.141*sqrt(3)  # Graphene: full dislocation d = dCC*sqrt(3)\n",
    "\n",
    "k = tm*2*pi/b      # nN/nm/nm/nm\n",
    "\n",
    "Lam = sqrt(M/2/k)\n",
    "F = 0.5*k*b*Lam*(exp(2*L/Lam)+1)/(exp(2*L/Lam)-1)*1.\n",
    "\n",
    "print(F)"
   ]
  },
  {
   "cell_type": "code",
   "execution_count": 5,
   "metadata": {},
   "outputs": [],
   "source": [
    "# ------------------------------------------\n",
    "# mesh: focus on the normalized version of the equations\n",
    "Xmin = 0.0\n",
    "Xmax = +1.0\n",
    "nel = 1000000\n",
    "p_order = 2"
   ]
  },
  {
   "cell_type": "code",
   "execution_count": 6,
   "metadata": {},
   "outputs": [],
   "source": [
    "# ==========================================\n",
    "# function bank\n",
    "def dUdX(v):\n",
    "    return grad(v)[0]"
   ]
  },
  {
   "cell_type": "code",
   "execution_count": 7,
   "metadata": {},
   "outputs": [
    {
     "data": {
      "image/png": "[encoded data removed]",
      "text/plain": [
       "<Figure size 432x288 with 1 Axes>"
      ]
     },
     "metadata": {
      "needs_background": "light"
     },
     "output_type": "display_data"
    }
   ],
   "source": [
    "# ==========================================\n",
    "# mesh\n",
    "mesh = IntervalMesh(nel, Xmin, Xmax)\n",
    "\n",
    "plot(mesh)\n",
    "\n",
    "class Left(SubDomain):\n",
    "    def inside(self, x, on_boundary):\n",
    "        return near(x[0], Xmin, 1.e-14) and on_boundary\n",
    "class Right(SubDomain):\n",
    "    def inside(self, x, on_boundary):\n",
    "        return near(x[0], Xmax, 1.e-14) and on_boundary"
   ]
  },
  {
   "cell_type": "code",
   "execution_count": 8,
   "metadata": {},
   "outputs": [],
   "source": [
    "facets = MeshFunction(\"size_t\", mesh, 0)\n",
    "facets.set_all(0)\n",
    "Left().mark(facets,1)\n",
    "Right().mark(facets,2)\n",
    "ds = Measure(\"ds\", subdomain_data=facets)\n",
    "n = FacetNormal(mesh)"
   ]
  },
  {
   "cell_type": "code",
   "execution_count": 9,
   "metadata": {},
   "outputs": [],
   "source": [
    "# This imposes a Dirichlet condition at the point x=0\n",
    "def Dirichlet_X0_boundary(x,on_boundary):\n",
    "    tol = 1e-14\n",
    "    return abs(x[0]-Xmin)<tol\n",
    "\n",
    "# This imposes a Dirichlet condition at the point x=1\n",
    "def Dirichlet_X1_boundary(x,on_boundary):\n",
    "    tol = 1e-14\n",
    "    return abs(x[0]-Xmax)<tol"
   ]
  },
  {
   "cell_type": "code",
   "execution_count": 10,
   "metadata": {},
   "outputs": [],
   "source": [
    "# =========================================\n",
    "# function space\n",
    "V1D = FiniteElement('CG',mesh.ufl_cell(),p_order)\n",
    "# u1 and u2 for the bot and top layers\n",
    "V   = FunctionSpace(mesh,MixedElement(V1D,V1D))"
   ]
  },
  {
   "cell_type": "code",
   "execution_count": 11,
   "metadata": {},
   "outputs": [],
   "source": [
    "# =========================================\n",
    "# BCs for the u1-u10 for each step\n",
    "# --------------------------------------\n",
    "# half of the system: \n",
    "# Enforce u1=0,u2=0 at x=0\n",
    "#        force condition: du1/dx=-F/M, du2/dx=+F/M at x=L\n",
    "# in the normalized form:\n",
    "# U1=U2=0 at X=0\n",
    "# dU1dX = -F/M*L/b, dU2dX = +F/M*L/b\n",
    "# ---------------------------------------\n",
    "bcs = [DirichletBC(V.sub(0), Constant(0),        Dirichlet_X0_boundary),\n",
    "       DirichletBC(V.sub(1), Constant(0),        Dirichlet_X0_boundary),]"
   ]
  },
  {
   "cell_type": "code",
   "execution_count": 12,
   "metadata": {},
   "outputs": [],
   "source": [
    "# =========================================\n",
    "# define functions\n",
    "Uvec = Function(V)\n",
    "\n",
    "U1, U2 = split(Uvec)"
   ]
  },
  {
   "cell_type": "code",
   "execution_count": 13,
   "metadata": {},
   "outputs": [],
   "source": [
    "# define test functions\n",
    "V1, V2 = TestFunction(V)"
   ]
  },
  {
   "cell_type": "code",
   "execution_count": 29,
   "metadata": {},
   "outputs": [],
   "source": [
    "# weak form\n",
    "FF = inner(dUdX(U1), dUdX(V1))*dx + tm/M*L*L/b*sin(2*pi*(U1-U2))*V1*dx \\\n",
    "    - (-F/M*L/b)*V1*ds(2) + \\\n",
    "    inner(dUdX(U2), dUdX(V2))*dx - tm/M*L*L/b*sin(2*pi*(U1-U2))*V2*dx \\\n",
    "    - (+F/M*L/b)*V2*ds(2)\n",
    "\n",
    "J = derivative(FF, Uvec)\n",
    "problem = NonlinearVariationalProblem(FF, Uvec, bcs, J)\n",
    "solver  = NonlinearVariationalSolver(problem)\n",
    "\n",
    "staggered_tol     = 1e-6 # tolerance for the staggered scheme\n",
    "staggered_maxiter = 10   # max. iteration for the staggered scheme\n",
    "newton_Rtol       = 1e-8 # relative tolerance for Newton solver (balance eq.)\n",
    "newton_Atol       = 1e-8 # absoulte tolerance for Newton solver (balance eq.)\n",
    "newton_maxiter    = 20   # max. iteration for Newton solver (balance eq.)\n",
    "snes_Rtol         = 1e-9 # relative tolerance for SNES solver (phase field eq.)\n",
    "snes_Atol         = 1e-9 # absolute tolerance for SNES solver (phase field eq.)\n",
    "snes_maxiter      = 30   # max. iteration for SNEs solver (phase field eq.)\n",
    "\n",
    "# Set nonlinear solver parameters\n",
    "newton_prm = solver.parameters['newton_solver']\n",
    "newton_prm['relative_tolerance'] = newton_Rtol\n",
    "newton_prm['absolute_tolerance'] = newton_Atol\n",
    "newton_prm['maximum_iterations'] = newton_maxiter\n",
    "newton_prm['error_on_nonconvergence'] = False\n",
    "\n",
    "snes_prm = {\"nonlinear_solver\": \"snes\",\n",
    "            \"snes_solver\"     : { \"method\": \"vinewtonssls\",\n",
    "                                  \"line_search\": \"basic\",\n",
    "                                  \"maximum_iterations\": snes_maxiter,\n",
    "                                  \"relative_tolerance\": snes_Rtol,\n",
    "                                  \"absolute_tolerance\": snes_Atol,\n",
    "                                  \"report\": True,\n",
    "                                  \"error_on_nonconvergence\": False,\n",
    "                                }}\n",
    "\n",
    "# solver.solve()\n",
    "solver.parameters.update(snes_prm)"
   ]
  },
  {
   "cell_type": "code",
   "execution_count": 25,
   "metadata": {},
   "outputs": [
    {
     "data": {
      "text/plain": [
       "(-0.9, 0.9)"
      ]
     },
     "execution_count": 25,
     "metadata": {},
     "output_type": "execute_result"
    },
    {
     "data": {
      "image/png": "[encoded data removed]",
      "text/plain": [
       "<Figure size 432x288 with 1 Axes>"
      ]
     },
     "metadata": {
      "needs_background": "light"
     },
     "output_type": "display_data"
    },
    {
     "data": {
      "image/png": "[encoded data removed]",
      "text/plain": [
       "<Figure size 432x288 with 1 Axes>"
      ]
     },
     "metadata": {
      "needs_background": "light"
     },
     "output_type": "display_data"
    }
   ],
   "source": [
    "# check the inital\n",
    "plt.figure()\n",
    "plot(U1)\n",
    "plot(U2)\n",
    "plt.xlim(-0.1, 1.1)\n",
    "plt.ylim(-0.9, 0.9)\n",
    "\n",
    "plt.figure()\n",
    "plot(b/L*dUdX(U1))\n",
    "plot(b/L*dUdX(U2))\n",
    "plt.xlim(-0.1, 1.1)\n",
    "plt.ylim(-0.9, 0.9)"
   ]
  },
  {
   "cell_type": "code",
   "execution_count": null,
   "metadata": {},
   "outputs": [],
   "source": []
  }
 ],
 "metadata": {
  "kernelspec": {
   "display_name": "Python 3",
   "language": "python",
   "name": "python3"
  },
  "language_info": {
   "codemirror_mode": {
    "name": "ipython",
    "version": 3
   },
   "file_extension": ".py",
   "mimetype": "text/x-python",
   "name": "python",
   "nbconvert_exporter": "python",
   "pygments_lexer": "ipython3",
   "version": "3.6.9"
  }
 },
 "nbformat": 4,
 "nbformat_minor": 2
}
