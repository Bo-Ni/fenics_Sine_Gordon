{
 "cells": [
  {
   "cell_type": "code",
   "execution_count": 1,
   "metadata": {},
   "outputs": [
    {
     "data": {
      "text/plain": [
       "' \\n    equation\\n'"
      ]
     },
     "execution_count": 1,
     "metadata": {},
     "output_type": "execute_result"
    }
   ],
   "source": [
    "\"\"\" \n",
    "    equation\n",
    "\"\"\""
   ]
  },
  {
   "cell_type": "code",
   "execution_count": 2,
   "metadata": {},
   "outputs": [],
   "source": [
    "from dolfin import *\n",
    "from mshr import *\n",
    "import matplotlib.pyplot as plt\n",
    "import numpy as np\n",
    "import random"
   ]
  },
  {
   "cell_type": "code",
   "execution_count": 3,
   "metadata": {},
   "outputs": [],
   "source": [
    "# ==========================================\n",
    "# parameters\n",
    "\n",
    "# ------------------------------------------\n",
    "# mesh\n",
    "xmin = 0.0\n",
    "xmax = 1.0\n",
    "nel = 1000\n",
    "p_order = 1\n",
    "\n",
    "# ------------------------------------------\n",
    "# material system (nondimensional)\n",
    "d_NonDim = 0.5 # d/H\n",
    "wl_NonDim = 0.2  # lambda/H\n",
    "fe_NonDim = 0.01  # lambda*tao/k"
   ]
  },
  {
   "cell_type": "code",
   "execution_count": 4,
   "metadata": {},
   "outputs": [
    {
     "data": {
      "image/png": "[encoded data removed]",
      "text/plain": [
       "<Figure size 432x288 with 1 Axes>"
      ]
     },
     "metadata": {
      "needs_background": "light"
     },
     "output_type": "display_data"
    }
   ],
   "source": [
    "# ==========================================\n",
    "# mesh\n",
    "mesh = IntervalMesh(nel, xmin, xmax)\n",
    "\n",
    "plot(mesh)\n",
    "\n",
    "class Left(SubDomain):\n",
    "    def inside(self, x, on_boundary):\n",
    "        return near(x[0], xmin, 1.e-14) and on_boundary\n",
    "class Right(SubDomain):\n",
    "    def inside(self, x, on_boundary):\n",
    "        return near(x[0], xmax, 1.e-14) and on_boundary\n",
    "\n",
    "    "
   ]
  },
  {
   "cell_type": "code",
   "execution_count": 5,
   "metadata": {},
   "outputs": [],
   "source": [
    "# =========================================\n",
    "# function space\n",
    "V1D = FiniteElement('CG',mesh.ufl_cell(),p_order)\n",
    "# u1 and u2 for the bot and top layers\n",
    "V   = FunctionSpace(mesh,V1D)"
   ]
  },
  {
   "cell_type": "code",
   "execution_count": 6,
   "metadata": {},
   "outputs": [],
   "source": [
    "# This imposes a Dirichlet condition at the point x=0\n",
    "def Dirichlet_x0_boundary(x,on_boundary):\n",
    "    tol = 1e-14\n",
    "    return abs(x[0]-xmin)<tol\n",
    "\n",
    "# This imposes a Dirichlet condition at the point x=1\n",
    "def Dirichlet_x1_boundary(x,on_boundary):\n",
    "    tol = 1e-14\n",
    "    return abs(x[0]-xmax)<tol"
   ]
  },
  {
   "cell_type": "code",
   "execution_count": 7,
   "metadata": {},
   "outputs": [],
   "source": [
    "# Enforce u1=0,u2=0 at x=0\n",
    "#         u1=d      at x=1\n",
    "# ---------------------------------------\n",
    "bcs = [DirichletBC(V, Constant(0),        Dirichlet_x0_boundary),\n",
    "       DirichletBC(V, Constant(d_NonDim), Dirichlet_x1_boundary)]"
   ]
  },
  {
   "cell_type": "code",
   "execution_count": 8,
   "metadata": {},
   "outputs": [],
   "source": [
    "# weak form\n",
    "# ---------------------------------------\n",
    "def strain(v):\n",
    "    return grad(v)[0]\n",
    "\n",
    "# Define variational problem\n",
    "du1 = TestFunction(V)\n",
    "u1 = Function(V)\n",
    "\n",
    "# weak form\n",
    "F = inner(strain(u1),strain(du1))*dx + \\\n",
    "    sin(2*pi/wl_NonDim*u1)*du1*dx\n",
    "\n",
    "J = derivative(F, u1)\n",
    "problem = NonlinearVariationalProblem(F, u1, bcs, J)\n",
    "solver  = NonlinearVariationalSolver(problem)\n"
   ]
  },
  {
   "cell_type": "code",
   "execution_count": 9,
   "metadata": {},
   "outputs": [
    {
     "data": {
      "text/plain": [
       "(8, True)"
      ]
     },
     "execution_count": 9,
     "metadata": {},
     "output_type": "execute_result"
    }
   ],
   "source": [
    "solver.solve()"
   ]
  },
  {
   "cell_type": "code",
   "execution_count": 10,
   "metadata": {},
   "outputs": [
    {
     "data": {
      "text/plain": [
       "[<matplotlib.lines.Line2D at 0x7f3a8602d2e8>]"
      ]
     },
     "execution_count": 10,
     "metadata": {},
     "output_type": "execute_result"
    },
    {
     "data": {
      "image/png": "[encoded data removed]",
      "text/plain": [
       "<Figure size 432x288 with 1 Axes>"
      ]
     },
     "metadata": {
      "needs_background": "light"
     },
     "output_type": "display_data"
    }
   ],
   "source": [
    "# check\n",
    "# ------------------------------\n",
    "plt.figure()\n",
    "plot(u1)"
   ]
  },
  {
   "cell_type": "code",
   "execution_count": 11,
   "metadata": {},
   "outputs": [
    {
     "data": {
      "text/plain": [
       "[<matplotlib.lines.Line2D at 0x7f3a86013b00>]"
      ]
     },
     "execution_count": 11,
     "metadata": {},
     "output_type": "execute_result"
    },
    {
     "data": {
      "image/png": "[encoded data removed]",
      "text/plain": [
       "<Figure size 432x288 with 1 Axes>"
      ]
     },
     "metadata": {
      "needs_background": "light"
     },
     "output_type": "display_data"
    }
   ],
   "source": [
    "# check\n",
    "# ------------------------------\n",
    "plt.figure()\n",
    "plot(strain(u1))"
   ]
  },
  {
   "cell_type": "code",
   "execution_count": null,
   "metadata": {},
   "outputs": [],
   "source": []
  },
  {
   "cell_type": "code",
   "execution_count": null,
   "metadata": {},
   "outputs": [],
   "source": []
  },
  {
   "cell_type": "code",
   "execution_count": null,
   "metadata": {},
   "outputs": [],
   "source": []
  },
  {
   "cell_type": "code",
   "execution_count": null,
   "metadata": {},
   "outputs": [],
   "source": []
  },
  {
   "cell_type": "code",
   "execution_count": null,
   "metadata": {},
   "outputs": [],
   "source": []
  }
 ],
 "metadata": {
  "kernelspec": {
   "display_name": "Python 3",
   "language": "python",
   "name": "python3"
  },
  "language_info": {
   "codemirror_mode": {
    "name": "ipython",
    "version": 3
   },
   "file_extension": ".py",
   "mimetype": "text/x-python",
   "name": "python",
   "nbconvert_exporter": "python",
   "pygments_lexer": "ipython3",
   "version": "3.6.9"
  }
 },
 "nbformat": 4,
 "nbformat_minor": 2
}
