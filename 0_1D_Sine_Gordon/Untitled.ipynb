{
 "cells": [
  {
   "cell_type": "code",
   "execution_count": 1,
   "metadata": {},
   "outputs": [
    {
     "data": {
      "text/plain": [
       "'\\nCalculate stationary Sine-Gordon equation with visocosity\\nto compare with linear system with discrete dislocation solutions\\n\\nM*ddu1/dxdx - tm*sin(2pi/b*(u1-u2)) = c*du1/dt\\nM*ddu2/dxdx + tm*sin(2pi/b*(u1-u2)) = c*du2/dt\\n\\n'"
      ]
     },
     "execution_count": 1,
     "metadata": {},
     "output_type": "execute_result"
    }
   ],
   "source": [
    "\"\"\"\n",
    "Calculate stationary Sine-Gordon equation with visocosity\n",
    "to compare with linear system with discrete dislocation solutions\n",
    "\n",
    "M*ddu1/dxdx - tm*sin(2pi/b*(u1-u2)) = c*du1/dt\n",
    "M*ddu2/dxdx + tm*sin(2pi/b*(u1-u2)) = c*du2/dt\n",
    "\n",
    "\"\"\""
   ]
  },
  {
   "cell_type": "code",
   "execution_count": 2,
   "metadata": {},
   "outputs": [],
   "source": [
    "from dolfin import *\n",
    "from mshr import *\n",
    "import matplotlib.pyplot as plt\n",
    "import numpy as np\n",
    "import random\n",
    "import os"
   ]
  },
  {
   "cell_type": "code",
   "execution_count": 19,
   "metadata": {},
   "outputs": [
    {
     "name": "stdout",
     "output_type": "stream",
     "text": [
      "1.4824165921461898\n"
     ]
    }
   ],
   "source": [
    "# ==========================================\n",
    "# parameters\n",
    "L = 100.0            # nm\n",
    "M = 335.           # Graphene: Et= 335 nN/nm\n",
    "# tm = 1.0           # Graphene paper: tm = 40kPa = 4.E-5 nN/nm/nm\n",
    "tm = 0.38           # Graphene potential: tm = 0.38GPa = 0.38 nN/nm/nm\n",
    "b = 0.141*sqrt(3)  # Graphene: full dislocation d = dCC*sqrt(3)\n",
    "\n",
    "k = tm*2*pi/b      # nN/nm/nm/nm\n",
    "c = 10.0            # visicosity\n",
    "dt = 1.0e-2\n",
    "theta = 0.5\n",
    "\n",
    "Lam = sqrt(M/2/k)\n",
    "F = 0.5*k*b*Lam*(exp(2*L/Lam)+1)/(exp(2*L/Lam)-1)*0.3\n",
    "\n",
    "print(F)"
   ]
  },
  {
   "cell_type": "code",
   "execution_count": 4,
   "metadata": {},
   "outputs": [],
   "source": [
    "# ------------------------------------------\n",
    "# mesh: focus on the normalized version of the equations\n",
    "Xmin = 0.0\n",
    "Xmax = +1.0\n",
    "nel = 1000000\n",
    "p_order = 2"
   ]
  },
  {
   "cell_type": "code",
   "execution_count": 5,
   "metadata": {},
   "outputs": [],
   "source": [
    "# ==========================================\n",
    "# function bank\n",
    "def dUdX(v):\n",
    "    return grad(v)[0]"
   ]
  },
  {
   "cell_type": "code",
   "execution_count": 6,
   "metadata": {},
   "outputs": [],
   "source": [
    "# Class representing the intial conditions\n",
    "class InitialConditions(UserExpression):\n",
    "    #def __init__(self):\n",
    "    #    random.seed(2)\n",
    "    def eval(self, values, x):\n",
    "        # values[0] = 0.63 + 0.02*(0.5 - random.random())\n",
    "        values[0] = 0.0\n",
    "        values[1] = 0.0\n",
    "    def value_shape(self):\n",
    "        return (2,)"
   ]
  },
  {
   "cell_type": "code",
   "execution_count": 7,
   "metadata": {},
   "outputs": [
    {
     "data": {
      "image/png": "[encoded data removed]",
      "text/plain": [
       "<Figure size 432x288 with 1 Axes>"
      ]
     },
     "metadata": {
      "needs_background": "light"
     },
     "output_type": "display_data"
    }
   ],
   "source": [
    "# ==========================================\n",
    "# mesh\n",
    "mesh = IntervalMesh(nel, Xmin, Xmax)\n",
    "\n",
    "plot(mesh)\n",
    "\n",
    "class Left(SubDomain):\n",
    "    def inside(self, x, on_boundary):\n",
    "        return near(x[0], Xmin, 1.e-14) and on_boundary\n",
    "class Right(SubDomain):\n",
    "    def inside(self, x, on_boundary):\n",
    "        return near(x[0], Xmax, 1.e-14) and on_boundary"
   ]
  },
  {
   "cell_type": "code",
   "execution_count": null,
   "metadata": {},
   "outputs": [],
   "source": []
  },
  {
   "cell_type": "code",
   "execution_count": 8,
   "metadata": {},
   "outputs": [],
   "source": [
    "facets = MeshFunction(\"size_t\", mesh, 0)\n",
    "facets.set_all(0)\n",
    "Left().mark(facets,1)\n",
    "Right().mark(facets,2)\n",
    "ds = Measure(\"ds\", subdomain_data=facets)\n",
    "n = FacetNormal(mesh)"
   ]
  },
  {
   "cell_type": "code",
   "execution_count": 9,
   "metadata": {},
   "outputs": [
    {
     "name": "stdout",
     "output_type": "stream",
     "text": [
      "Calling FFC just-in-time (JIT) compiler, this may take some time.\n",
      "Calling FFC just-in-time (JIT) compiler, this may take some time.\n"
     ]
    }
   ],
   "source": [
    "# =========================================\n",
    "# function space\n",
    "V1D = FiniteElement('CG',mesh.ufl_cell(),p_order)\n",
    "# u1 and u2 for the bot and top layers\n",
    "V   = FunctionSpace(mesh,MixedElement(V1D,V1D))"
   ]
  },
  {
   "cell_type": "code",
   "execution_count": 10,
   "metadata": {},
   "outputs": [],
   "source": [
    "# This imposes a Dirichlet condition at the point x=0\n",
    "def Dirichlet_X0_boundary(x,on_boundary):\n",
    "    tol = 1e-14\n",
    "    return abs(x[0]-Xmin)<tol\n",
    "\n",
    "# This imposes a Dirichlet condition at the point x=1\n",
    "def Dirichlet_X1_boundary(x,on_boundary):\n",
    "    tol = 1e-14\n",
    "    return abs(x[0]-Xmax)<tol"
   ]
  },
  {
   "cell_type": "code",
   "execution_count": 11,
   "metadata": {},
   "outputs": [],
   "source": [
    "# =========================================\n",
    "# BCs for the u1-u10 for each step\n",
    "# --------------------------------------\n",
    "# half of the system: \n",
    "# Enforce u1=0,u2=0 at x=0\n",
    "#        force condition: du1/dx=-F/M, du2/dx=+F/M at x=L\n",
    "# in the normalized form:\n",
    "# U1=U2=0 at X=0\n",
    "# dU1dX = -F/M*L/b, dU2dX = +F/M*L/b\n",
    "# ---------------------------------------\n",
    "bcs = [DirichletBC(V.sub(0), Constant(0),        Dirichlet_X0_boundary),\n",
    "       DirichletBC(V.sub(1), Constant(0),        Dirichlet_X0_boundary),]"
   ]
  },
  {
   "cell_type": "code",
   "execution_count": 12,
   "metadata": {},
   "outputs": [],
   "source": [
    "# =========================================\n",
    "# define functions\n",
    "# previous solution\n",
    "Uvec_0 = Function(V)\n",
    "\n",
    "# current solution\n",
    "Uvec_1 = Function(V)\n",
    "\n",
    "# define test functions\n",
    "Vvec = TestFunction(V)"
   ]
  },
  {
   "cell_type": "code",
   "execution_count": 13,
   "metadata": {},
   "outputs": [],
   "source": [
    "# Split mixed functions\n",
    "U1_0, U2_0 = split(Uvec_0)\n",
    "U1_1, U2_1 = split(Uvec_1)\n",
    "V1_1, V2_1 = split(Vvec)"
   ]
  },
  {
   "cell_type": "code",
   "execution_count": 14,
   "metadata": {},
   "outputs": [],
   "source": [
    "# initialize the solution\n",
    "u_ini = InitialConditions()\n",
    "Uvec_0.interpolate(u_ini)\n",
    "Uvec_1.interpolate(u_ini)\n"
   ]
  },
  {
   "cell_type": "code",
   "execution_count": 24,
   "metadata": {},
   "outputs": [
    {
     "name": "stdout",
     "output_type": "stream",
     "text": [
      "Calling FFC just-in-time (JIT) compiler, this may take some time.\n",
      "Calling FFC just-in-time (JIT) compiler, this may take some time.\n"
     ]
    }
   ],
   "source": [
    "# weak form\n",
    "# theta method\n",
    "U1_mid = (1.-theta)*U1_0 + theta*U1_1\n",
    "U2_mid = (1.-theta)*U2_0 + theta*U2_1\n",
    "\n",
    "# FF = inner(dUdX(U1_1), dUdX(V1_1))*dx + tm/M*L*L/b*sin(2*pi*(U1_1-U2_1))*V1_1*dx \\\n",
    "#      + c*b/M*(U1_1-U1_0)/dt*V1_1*dx \\\n",
    "#      - (-F/M*L/b)*V1_1*ds(2) + \\\n",
    "#      inner(dUdX(U2_1), dUdX(V2_1))*dx - tm/M*L*L/b*sin(2*pi*(U1_1-U2_1))*V2_1*dx \\\n",
    "#      + c*b/M*(U2_1-U2_0)/dt*V2_1*dx \\\n",
    "#      - (+F/M*L/b)*V2_1*ds(2)\n",
    "\n",
    "# FF = inner(dUdX(U1_mid), dUdX(V1_1))*dx + tm/M*L*L/b*sin(2*pi*(U1_mid-U2_mid))*V1_1*dx \\\n",
    "#      + c*b/M*(U1_1-U1_0)/dt*V1_1*dx \\\n",
    "#      - (-F/M*L/b)*V1_1*ds(2) + \\\n",
    "#      inner(dUdX(U2_mid), dUdX(V2_1))*dx - tm/M*L*L/b*sin(2*pi*(U1_mid-U2_mid))*V2_1*dx \\\n",
    "#      + c*b/M*(U2_1-U2_0)/dt*V2_1*dx \\\n",
    "#      - (+F/M*L/b)*V2_1*ds(2)\n",
    "\n",
    "FF = inner(dUdX(U1_mid), dUdX(V1_1))*dx + tm/M*L*L/b*sin(2*pi*(U1_0-U2_0))*V1_1*dx \\\n",
    "     + c*b/M*(U1_1-U1_0)/dt*V1_1*dx \\\n",
    "     - (-F/M*L/b)*V1_1*ds(2) + \\\n",
    "     inner(dUdX(U2_mid), dUdX(V2_1))*dx - tm/M*L*L/b*sin(2*pi*(U1_0-U2_0))*V2_1*dx \\\n",
    "     + c*b/M*(U2_1-U2_0)/dt*V2_1*dx \\\n",
    "     - (+F/M*L/b)*V2_1*ds(2)\n",
    "\n",
    "J = derivative(FF, Uvec_1)\n",
    "problem = NonlinearVariationalProblem(FF, Uvec_1, bcs, J)\n",
    "solver  = NonlinearVariationalSolver(problem)\n",
    "\n",
    "staggered_tol     = 1e-6 # tolerance for the staggered scheme\n",
    "staggered_maxiter = 10   # max. iteration for the staggered scheme\n",
    "newton_Rtol       = 1e-8 # relative tolerance for Newton solver (balance eq.)\n",
    "newton_Atol       = 1e-8 # absoulte tolerance for Newton solver (balance eq.)\n",
    "newton_maxiter    = 20   # max. iteration for Newton solver (balance eq.)\n",
    "snes_Rtol         = 1e-9 # relative tolerance for SNES solver (phase field eq.)\n",
    "snes_Atol         = 1e-9 # absolute tolerance for SNES solver (phase field eq.)\n",
    "snes_maxiter      = 30   # max. iteration for SNEs solver (phase field eq.)\n",
    "\n",
    "# Set nonlinear solver parameters\n",
    "newton_prm = solver.parameters['newton_solver']\n",
    "newton_prm['relative_tolerance'] = newton_Rtol\n",
    "newton_prm['absolute_tolerance'] = newton_Atol\n",
    "newton_prm['maximum_iterations'] = newton_maxiter\n",
    "newton_prm['error_on_nonconvergence'] = False\n"
   ]
  },
  {
   "cell_type": "code",
   "execution_count": null,
   "metadata": {},
   "outputs": [],
   "source": [
    "# Step in time\n",
    "t = 0.0\n",
    "T = 5*dt\n",
    "while (t < T):\n",
    "    t += dt\n",
    "    Uvec_0.vector()[:] = Uvec_1.vector()\n",
    "    solver.solve()"
   ]
  },
  {
   "cell_type": "code",
   "execution_count": 23,
   "metadata": {},
   "outputs": [
    {
     "data": {
      "text/plain": [
       "(-1, 1)"
      ]
     },
     "execution_count": 23,
     "metadata": {},
     "output_type": "execute_result"
    },
    {
     "data": {
      "image/png": "[encoded data removed]",
      "text/plain": [
       "<Figure size 432x288 with 1 Axes>"
      ]
     },
     "metadata": {
      "needs_background": "light"
     },
     "output_type": "display_data"
    }
   ],
   "source": [
    "plt.figure()\n",
    "plot(b/L*dUdX(U1_1))\n",
    "plot(b/L*dUdX(U2_1))\n",
    "plt.ylim(-1,1)"
   ]
  },
  {
   "cell_type": "code",
   "execution_count": null,
   "metadata": {},
   "outputs": [],
   "source": []
  }
 ],
 "metadata": {
  "kernelspec": {
   "display_name": "Python 3",
   "language": "python",
   "name": "python3"
  },
  "language_info": {
   "codemirror_mode": {
    "name": "ipython",
    "version": 3
   },
   "file_extension": ".py",
   "mimetype": "text/x-python",
   "name": "python",
   "nbconvert_exporter": "python",
   "pygments_lexer": "ipython3",
   "version": "3.6.9"
  }
 },
 "nbformat": 4,
 "nbformat_minor": 2
}
